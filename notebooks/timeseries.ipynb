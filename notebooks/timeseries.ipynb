{
 "cells": [
  {
   "cell_type": "code",
   "id": "initial_id",
   "metadata": {
    "collapsed": true,
    "jupyter": {
     "outputs_hidden": true
    }
   },
   "source": [
    "%load_ext autoreload\n",
    "%autoreload 2\n",
    "\n",
    "import os\n",
    "import pickle\n",
    "import pandas as pd\n",
    "import plotly.io as pio\n",
    "\n",
    "\"\"\" load data \"\"\"\n",
    "with open(os.path.join('..', 'dataset', 'experiments.pkl'), \"rb\") as experiments_file:\n",
    "    experiments = pickle.load(experiments_file)\n",
    "\n",
    "# display options\n",
    "pd.set_option('display.max_columns', None)\n",
    "pd.set_option('display.width', 100000)\n",
    "pio.renderers.default = \"plotly_mimetype+notebook_connected\""
   ],
   "outputs": [],
   "execution_count": null
  },
  {
   "cell_type": "markdown",
   "id": "59cc54bd4e05ae38",
   "metadata": {},
   "source": [
    "# PID and MiCS Metal Oxide Semiconductor Sensor Timeseries\n",
    "\n",
    "Below we show a small selection of timeseries recorded in our wind tunnel dataset.\n",
    "As with the spatial reconstructions, we focus on one of the sampling experiments, where our 4 sensor probes traverse across the airstream periodically, while the entire gantry slowly steps forward in the direction of the wind. The four probes are mounted vertically above each other with an offset of 24cm, and also traverse up and down, such that we sample a grid of 12x12x8cm cells (see [spatial data notebook](spatial_data.ipynb)).\n",
    "\n",
    "For some users, the timeseries themselves may be of interest, too. Out dataset contains the full, raw timeseries of all our recordings.\n",
    "Additionally, we perform various preprocessing steps. For example, the raw voltages get converted to sensing element resistances in the case of metal-oxide semiconductor sensors. But we also compute ppm-equivalents of the target gasses, and subtract the background concentrations measured using two upstream sensors.\n",
    "\n",
    "In the plots below, we show four interactive plots for the four sensors we used: MiCS 5524, MiCS 6814 (NO2 channel), MiCS 6814 (NH3 channel) and Alphasense PID-AH2.\n",
    "for each plot, you can in your browser zoom into the timeseries as needed, as well as select whether you want to see the raw recorded voltage or the the background-subtracted ppm - the final stage of our preprocessing.\n",
    "\n",
    "Do note that all signals are filtered with a rolling average filter of 2s, as some of the data is rather noisy, which makes it difficult to discern larger trends. If you require different filtering, you are free to clone this repository and run this notebook again yourself with changed parameters.\n"
   ]
  },
  {
   "cell_type": "code",
   "id": "7cde38aa8d49fe73",
   "metadata": {},
   "source": [
    "import plotly.graph_objects as go\n",
    "\n",
    "def plot2d(exp_idx, sensor_type, rolling_window=0, use_uniform_time=True):\n",
    "    experiment = experiments[\"Sampling_Experiments\"][exp_idx]\n",
    "\n",
    "    fig = go.Figure()\n",
    "    channels = [('upstream', i) for i in [0, 1]] + [('layers', i) for i in range(4)]\n",
    "    title_suffix = f\" for {sensor_type} in Experiment {exp_idx + 1}\"\n",
    "    titles = [\"Voltages (raw)\"+title_suffix, \"ppm (background subtracted)\"+title_suffix]\n",
    "    for series_idx, series in enumerate(['voltage', 'ppm_relative']):\n",
    "        for key, idx in channels:\n",
    "            try:\n",
    "                data = experiment[key][idx][sensor_type]\n",
    "                data = data.rolling(f'{rolling_window}s').mean()\n",
    "\n",
    "                fig.add_trace(go.Scattergl(\n",
    "                    **(\n",
    "                        {'x': data[series].index}                   # Sets the actual time steps from the DataFrame (more precise)\n",
    "                        if not use_uniform_time else\n",
    "                        {'x0': data[series].index[0], 'dx': 100}    # Set starting time + uniform time steps (smaller file sizes)\n",
    "                    ),\n",
    "                    y=data[series],\n",
    "                    mode='lines',\n",
    "                    name=f\"{key} {idx}\",\n",
    "                    hovertemplate='Time: %{x}<br>Value: %{y:.2f}<extra></extra>',\n",
    "                    visible=(series_idx==0),\n",
    "                ))\n",
    "            except KeyError:\n",
    "                continue\n",
    "\n",
    "    # Enable zooming, panning, range sliders, etc.\n",
    "    fig.update_layout(\n",
    "        title=titles[0],\n",
    "        xaxis_title=\"Time\",\n",
    "        xaxis=dict(rangeslider=dict(visible=True), type='date'),\n",
    "        template='plotly_white',\n",
    "        height=500\n",
    "    )\n",
    "\n",
    "    # Add buttons to toggle visibility\n",
    "    fig.update_layout(\n",
    "        updatemenus=[\n",
    "            dict(\n",
    "                type=\"buttons\",\n",
    "                direction=\"right\",\n",
    "                buttons=list([\n",
    "                    dict(label=\"voltage\",\n",
    "                         method=\"update\",\n",
    "                         args=[{\"visible\": 6*[True] + 4*[False]},\n",
    "                               {\"title\": titles[0]},\n",
    "                               {\"yaxis\":['y','y']},\n",
    "                               ]),\n",
    "                    dict(label=\"ppm\",\n",
    "                         method=\"update\",\n",
    "                         args=[{\"visible\": 6*[False] + 4*[True]},\n",
    "                               {\"title\": titles[1]},\n",
    "                               ]),\n",
    "                ]),\n",
    "                pad={\"r\": 10, \"t\": 10},\n",
    "                showactive=True,\n",
    "                x=0.1,\n",
    "                xanchor=\"left\",\n",
    "                y=1.15,\n",
    "                yanchor=\"top\"\n",
    "            ),\n",
    "        ]\n",
    "    )\n",
    "    fig.show()"
   ],
   "outputs": [],
   "execution_count": null
  },
  {
   "cell_type": "code",
   "id": "1adffb0fab5afd19",
   "metadata": {},
   "source": [
    "plot2d(exp_idx=0, sensor_type='PID-sensor')"
   ],
   "outputs": [],
   "execution_count": null
  },
  {
   "cell_type": "markdown",
   "id": "881672924a1d2451",
   "metadata": {},
   "source": [
    "Note how the PID sensor signals for layers 0 and 1 spike much higher than layers 2 and 3. This shows that they traversed the plume much more directly than the others, which only peripherally hit it.\n",
    "You can also see how in the beginning phase, there is no concentration visible (after subtracting the background). This is while the sensors are upstream of the source.\n",
    "Once the sensor platforms reach the cells downstream of the source, we get strong readings.\n",
    "As we increase the distance to the source, the readings magnitudes drop, but the signal starts to become spread out over time, which corresponds to a larger spatial extent of the plume at larger distances."
   ]
  },
  {
   "cell_type": "code",
   "id": "2ae0d7d60f46cd88",
   "metadata": {},
   "source": [
    "plot2d(exp_idx=0, sensor_type='MiCS5524')"
   ],
   "outputs": [],
   "execution_count": null
  },
  {
   "cell_type": "markdown",
   "id": "8858785c7f7814a0",
   "metadata": {},
   "source": [
    "For all metal-oxide sensors, we see much longer recovery periods once the sensors have been exposed to gas.\n",
    "This makes it a challenge to compute the true spatial concentrations, as this 'smearing out' effect needs to be compensated.\n",
    "This is the topic of ongoing research in the gas sensing and electronic nose community.\n",
    "\n",
    "This is why one could call the PID sensor in our experiments the 'gold standard', while the other sensors aim to evaluate the feasibility of using low-cost sensors in gas sensing applications."
   ]
  },
  {
   "cell_type": "code",
   "id": "56bef35bd7fd8c2e",
   "metadata": {},
   "source": [
    "plot2d(exp_idx=0, sensor_type='MiCS6814_NO2')"
   ],
   "outputs": [],
   "execution_count": null
  },
  {
   "cell_type": "markdown",
   "id": "f7bdb8ee3979fcec",
   "metadata": {},
   "source": [
    "Note here how the NO2 channel for the MiCS6814 is showing negative values for the ppm of NO2.\n",
    "While this may initially seem surprising, it does make sense: The \"NO2\" channel of the MiCS6814 is sensitive to oxidizing gasses. Since the gas plume we generate in our experiments contains primarily reducing gasses, these act like \"anti-oxidizing gasses\" on the sensor surface – thus dropping the concentrations below zero."
   ]
  },
  {
   "cell_type": "code",
   "id": "8aec55cdbd7489e",
   "metadata": {},
   "source": [
    "plot2d(exp_idx=0, sensor_type='MiCS6814_NH3')"
   ],
   "outputs": [],
   "execution_count": null
  },
  {
   "cell_type": "markdown",
   "id": "1e208f01dcb0b576",
   "metadata": {},
   "source": [
    "The NH3 channel is again sensitive to reducing gasses, though has a different characteristic curve than the MiCCS5524 for example. It too exhibits the slow recovery as is visible in the other metal-oxide sensor timeseries, but is otherwise also sensitive to the constituents of the fog plume released in the wind tunnel experiments."
   ]
  }
 ],
 "metadata": {
  "kernelspec": {
   "display_name": "Python 3 (ipykernel)",
   "language": "python",
   "name": "python3"
  },
  "language_info": {
   "codemirror_mode": {
    "name": "ipython",
    "version": 3
   },
   "file_extension": ".py",
   "mimetype": "text/x-python",
   "name": "python",
   "nbconvert_exporter": "python",
   "pygments_lexer": "ipython3",
   "version": "3.13.3"
  }
 },
 "nbformat": 4,
 "nbformat_minor": 5
}
