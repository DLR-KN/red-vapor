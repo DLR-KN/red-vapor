{
 "cells": [
  {
   "metadata": {},
   "cell_type": "code",
   "source": [
    "%load_ext autoreload\n",
    "%autoreload 2\n",
    "\n",
    "import os\n",
    "import pickle\n",
    "import pandas as pd\n",
    "\n",
    "\"\"\" load data \"\"\"\n",
    "with open(os.path.join('..', 'dataset', 'voxel_maps.pkl'), \"rb\") as voxel_maps_file:\n",
    "    voxel_maps = pickle.load(voxel_maps_file)\n",
    "\n",
    "# display options\n",
    "pd.set_option('display.max_columns', None)\n",
    "pd.set_option('display.width', 100000)"
   ],
   "id": "ca3abfb4310fec1e",
   "outputs": [],
   "execution_count": null
  },
  {
   "metadata": {},
   "cell_type": "markdown",
   "source": [
    "# Explore the 3D Reconstruction Interactively\n",
    "\n",
    "Here we show a small selection of 3D reconstructions recorded in our wind tunnel experiments.\n",
    "First we highlight two different experiments, Experiment_8 and Experiment_7. Both contain a scale model of a landscape:\n",
    "While Experiment_8 contains the exact \"Setup C\" shown below, for Experiment_7 it is rotated by 45° CCW, thus changing the angle of attack of the wind. This is referred to as \"Setup D\".\n",
    "##### Scale Model Landscape in Setup C\n",
    "<div>\n",
    "<img src=\"setupC.png\" width=\"300\"/>\n",
    "</div>"
   ],
   "id": "bc86ab4b7642d6b5"
  },
  {
   "metadata": {},
   "cell_type": "code",
   "source": [
    "import plotly.graph_objects as go\n",
    "import numpy as np\n",
    "\n",
    "def plot3d(exp_idx, sensor_type, column):\n",
    "    setup = voxel_maps[exp_idx]['experiment_info']['setup']\n",
    "\n",
    "    xx = voxel_maps[exp_idx]['voxel_map']['x']\n",
    "    yy = voxel_maps[exp_idx]['voxel_map']['y']\n",
    "    zz = voxel_maps[exp_idx]['voxel_map']['z']\n",
    "    val = voxel_maps[exp_idx]['voxel_map'][sensor_type][column]\n",
    "\n",
    "    val = np.nan_to_num(val, nan=0.001)\n",
    "\n",
    "    fig = go.Figure(data=[\n",
    "        go.Scatter3d(\n",
    "        x=xx, y=yy, z=zz,\n",
    "        mode='markers',\n",
    "        marker=dict(\n",
    "            size=np.maximum(75*val/np.max(val), 3),\n",
    "            color=val,\n",
    "            colorscale='Turbo',\n",
    "            opacity=0.5,\n",
    "            colorbar=dict(title='ppm'), # define colorbar\n",
    "            showscale=True              # enable colorbar\n",
    "        ),\n",
    "    )])\n",
    "\n",
    "\n",
    "    factor = 0.6\n",
    "    fig.update_layout(\n",
    "        title=f\"Setup {setup} – Showing {sensor_type} {column} in Experiment_{exp_idx+1}\",\n",
    "        template='plotly_white',\n",
    "        height=700,\n",
    "        scene=dict(\n",
    "            xaxis=dict(range=[-1.2, 1.2]),\n",
    "            yaxis=dict(range=[-1.2, 1.2]),\n",
    "            zaxis=dict(range=[0, 1.5]),\n",
    "            aspectmode='manual',\n",
    "            aspectratio=dict(x=2.4*factor, y=2.4*factor, z=1.5*factor),\n",
    "            camera=dict(\n",
    "                eye=dict(x=2, y=0.6, z=0.3),     # Position of the camera\n",
    "            ),\n",
    "        ),\n",
    "    )\n",
    "\n",
    "    fig.show()"
   ],
   "id": "5fcc46c3bf11b7d8",
   "outputs": [],
   "execution_count": null
  },
  {
   "metadata": {},
   "cell_type": "code",
   "source": "plot3d(exp_idx=7, sensor_type='PID-sensor', column='ppm_relative')",
   "id": "7b7974b26de24549",
   "outputs": [],
   "execution_count": null
  },
  {
   "metadata": {},
   "cell_type": "code",
   "source": "plot3d(exp_idx=6, sensor_type='PID-sensor', column='ppm_relative')",
   "id": "d0e49a9289eeb6c2",
   "outputs": [],
   "execution_count": null
  },
  {
   "metadata": {},
   "cell_type": "markdown",
   "source": [
    "## PID Senor vs MiCS Metal Oxide Sensors\n",
    "Now we continue with Experiment_7 and show the output signals for the other sensors mounted on the sensor platforms.\n",
    "The previous plots showed the PID sensor signal. Below, we show the MiCS 5524 and the MiCS 6814 (NH3 channel).\n",
    "\n",
    "In every plot here, the output is of the column `ppm_relative`, which is the end product of our preprocessing chain: We derive a background-subtracted reading converted into ppm-equivalents of the target gasses. This removes the background drift over the course of the experiments. For each measurement cell, the sensor samples for 5s at 10Hz and the measurements are averaged to generate the scatterplots."
   ],
   "id": "699ebf94195be23"
  },
  {
   "metadata": {},
   "cell_type": "code",
   "source": "plot3d(exp_idx=6, sensor_type='MiCS5524', column='ppm_relative')",
   "id": "1b1e976fcdc19c1",
   "outputs": [],
   "execution_count": null
  },
  {
   "metadata": {},
   "cell_type": "code",
   "source": "plot3d(exp_idx=6, sensor_type='MiCS6814_NH3', column='ppm_relative')",
   "id": "937a62c823c3880b",
   "outputs": [],
   "execution_count": null
  },
  {
   "metadata": {},
   "cell_type": "markdown",
   "source": [
    "## Wind Vectors\n",
    "The same can be done with the wind data:"
   ],
   "id": "cab129f39175e365"
  },
  {
   "metadata": {},
   "cell_type": "code",
   "source": [
    "exp_idx = 7\n",
    "xx = voxel_maps[exp_idx]['voxel_map']['x']\n",
    "yy = voxel_maps[exp_idx]['voxel_map']['y']\n",
    "zz = voxel_maps[exp_idx]['voxel_map']['z']\n",
    "uu = voxel_maps[exp_idx]['voxel_map']['wind-u']\n",
    "vv = voxel_maps[exp_idx]['voxel_map']['wind-v']\n",
    "ww = voxel_maps[exp_idx]['voxel_map']['wind-w']\n",
    "\n",
    "fig = go.Figure(data = go.Cone(\n",
    "    x=xx,\n",
    "    y=yy,\n",
    "    z=zz,\n",
    "    u=uu,\n",
    "    v=vv,\n",
    "    w=ww,\n",
    "    colorscale='Portland',\n",
    "    sizemode=\"scaled\",\n",
    "    sizeref=1,\n",
    "    colorbar=dict(\n",
    "        title=\"Wind Speed in m/s\",\n",
    "    ),\n",
    "))\n",
    "\n",
    "setup = 'C'\n",
    "factor = 0.6\n",
    "fig.update_layout(\n",
    "    title=f\"Setup {setup} – Showing Wind Vectors in Experiment_{exp_idx+1}\",\n",
    "    template='plotly_white',\n",
    "    height=700,\n",
    "    scene=dict(\n",
    "        xaxis=dict(range=[-1.2, 1.2]),\n",
    "        yaxis=dict(range=[-1.2, 1.2]),\n",
    "        zaxis=dict(range=[0, 1.5]),\n",
    "        aspectmode='manual',\n",
    "        aspectratio=dict(x=2.4*factor, y=2.4*factor, z=1.5*factor),\n",
    "        camera=dict(\n",
    "            eye=dict(x=1, y=2, z=0.5),     # Position of the camera\n",
    "        ),\n",
    "    )\n",
    ")\n",
    "\n",
    "fig.show()"
   ],
   "id": "5236b997219b7712",
   "outputs": [],
   "execution_count": null
  },
  {
   "metadata": {},
   "cell_type": "markdown",
   "source": [
    "Explore the field by pressing your left, middle or right mouse button and dragging the mouse to rotate, zoom or translate.\n",
    "\n",
    "When you zoom in on the locations of the obstacles, i.e. the buildings in the scale model landscape, you can make out how the wind is slowed down and diverted around the obstacles.\n",
    "The overall vertial wind profile is also visible from the colormap.\n",
    "\n",
    "Next, we can look at a slice of this data in an XZ plane:"
   ],
   "id": "3039679a7fe18a72"
  },
  {
   "metadata": {},
   "cell_type": "code",
   "source": [
    "import plotly.figure_factory as ff\n",
    "\n",
    "slice_y = -0.54\n",
    "voxel_map = voxel_maps[exp_idx]['voxel_map']\n",
    "slice = voxel_map[voxel_map['y'] == slice_y]\n",
    "\n",
    "xx = slice['x']\n",
    "zz = slice['z']\n",
    "uu = slice['wind-u']\n",
    "ww = slice['wind-w']\n",
    "\n",
    "fig = ff.create_quiver(\n",
    "    xx, zz, uu, ww,\n",
    "    scaleratio=1,\n",
    "    scale=0.08,\n",
    ")\n",
    "\n",
    "fig.update_layout(\n",
    "    title=f\"Setup {setup}, sliced at y={slice_y}m – Showing Wind Vectors in Experiment_{exp_idx+1}\",\n",
    "    template='plotly_white',\n",
    "    height=700,\n",
    "    xaxis_title=\"x in m\",\n",
    "    yaxis_title=\"z in m\",\n",
    ")\n",
    "fig.show()"
   ],
   "id": "c5563a760f2fe211",
   "outputs": [],
   "execution_count": null
  },
  {
   "metadata": {},
   "cell_type": "markdown",
   "source": [
    "What is especially striking here is how the wind is slowed down in front of obstacles or diverted around it sideways (in Y direction, into the figure plane),\n",
    "and how it is curling downwards behind an obstacle, with air rushing down to fill the void left in the wake.\n",
    "In some places (here at x=-0.65m), the wind vector even curls back completely, obtaining a small positive x component."
   ],
   "id": "da4ba682611cd3fb"
  },
  {
   "metadata": {},
   "cell_type": "markdown",
   "source": [
    "# VTK Files\n",
    "All data presented here is also contained in the `.vtk` files that you find in the dataset.\n",
    "Using those, users can also explore the spatial data using an application like ParaView."
   ],
   "id": "20463074640d0660"
  }
 ],
 "metadata": {
  "kernelspec": {
   "display_name": "Python 3",
   "language": "python",
   "name": "python3"
  },
  "language_info": {
   "codemirror_mode": {
    "name": "ipython",
    "version": 2
   },
   "file_extension": ".py",
   "mimetype": "text/x-python",
   "name": "python",
   "nbconvert_exporter": "python",
   "pygments_lexer": "ipython2",
   "version": "2.7.6"
  }
 },
 "nbformat": 4,
 "nbformat_minor": 5
}
